{
  "nbformat": 4,
  "nbformat_minor": 0,
  "metadata": {
    "colab": {
      "provenance": [],
      "authorship_tag": "ABX9TyOHnfnqTwmTcN0Tt6pARgqx",
      "include_colab_link": true
    },
    "kernelspec": {
      "name": "python3",
      "display_name": "Python 3"
    },
    "language_info": {
      "name": "python"
    }
  },
  "cells": [
    {
      "cell_type": "markdown",
      "metadata": {
        "id": "view-in-github",
        "colab_type": "text"
      },
      "source": [
        "<a href=\"https://colab.research.google.com/github/Sunisa78-8/plpl/blob/main/Untitled0.ipynb\" target=\"_parent\"><img src=\"https://colab.research.google.com/assets/colab-badge.svg\" alt=\"Open In Colab\"/></a>"
      ]
    },
    {
      "cell_type": "markdown",
      "source": [
        "#การแสดงข้อความ Print\n",
        "print(ข้อความ)` = การแสดง Output ออกมาทางหน้าจอ"
      ],
      "metadata": {
        "id": "JDdUiywYbBBU"
      }
    },
    {
      "cell_type": "code",
      "execution_count": 1,
      "metadata": {
        "colab": {
          "base_uri": "https://localhost:8080/"
        },
        "id": "ypmkQlqea4nU",
        "outputId": "f242bc87-a3b5-447b-e82c-b058c5b9a623"
      },
      "outputs": [
        {
          "output_type": "stream",
          "name": "stdout",
          "text": [
            "ploy\n"
          ]
        }
      ],
      "source": [
        "print('ploy')"
      ]
    },
    {
      "cell_type": "code",
      "source": [
        "'ployสวยมากๆ'"
      ],
      "metadata": {
        "colab": {
          "base_uri": "https://localhost:8080/",
          "height": 35
        },
        "id": "P971_Ii_bjMM",
        "outputId": "c0285208-b232-4eea-c31a-0066b803263a"
      },
      "execution_count": 2,
      "outputs": [
        {
          "output_type": "execute_result",
          "data": {
            "text/plain": [
              "'ployสวยมากๆ'"
            ],
            "application/vnd.google.colaboratory.intrinsic+json": {
              "type": "string"
            }
          },
          "metadata": {},
          "execution_count": 2
        }
      ]
    },
    {
      "cell_type": "markdown",
      "source": [
        "## ผลการรันแสดงออกมา ได้ 2 แบบ\n",
        "1. ถ้าไม่มีตัวแปรมารับ ก็จะแสดงผลออกที่หน้าจอ\n",
        "2. ถ้ามีตัวแปรมารับ ผลการรันก็จะไปอยู่ในตัวแปร"
      ],
      "metadata": {
        "id": "08pGokFnbw9O"
      }
    },
    {
      "cell_type": "code",
      "source": [
        "4+3"
      ],
      "metadata": {
        "colab": {
          "base_uri": "https://localhost:8080/"
        },
        "id": "lwUHb_y0cQ3I",
        "outputId": "8719d49c-f1f6-475c-def2-c3db76362c0d"
      },
      "execution_count": 3,
      "outputs": [
        {
          "output_type": "execute_result",
          "data": {
            "text/plain": [
              "7"
            ]
          },
          "metadata": {},
          "execution_count": 3
        }
      ]
    },
    {
      "cell_type": "code",
      "source": [
        "4-6"
      ],
      "metadata": {
        "colab": {
          "base_uri": "https://localhost:8080/"
        },
        "id": "Kym4zbSflmVB",
        "outputId": "495b64ec-c9ac-4c4a-8891-4693e94e9c86"
      },
      "execution_count": 16,
      "outputs": [
        {
          "output_type": "execute_result",
          "data": {
            "text/plain": [
              "-2"
            ]
          },
          "metadata": {},
          "execution_count": 16
        }
      ]
    },
    {
      "cell_type": "code",
      "source": [
        "p= 3+6"
      ],
      "metadata": {
        "id": "tDrDIQtbcYLV"
      },
      "execution_count": 4,
      "outputs": []
    },
    {
      "cell_type": "code",
      "source": [
        "p"
      ],
      "metadata": {
        "colab": {
          "base_uri": "https://localhost:8080/"
        },
        "id": "E68jSp4Jcckk",
        "outputId": "c948cf71-e1a8-4bf1-f715-e414ae9e5841"
      },
      "execution_count": 5,
      "outputs": [
        {
          "output_type": "execute_result",
          "data": {
            "text/plain": [
              "9"
            ]
          },
          "metadata": {},
          "execution_count": 5
        }
      ]
    },
    {
      "cell_type": "markdown",
      "source": [
        "print() ->separator"
      ],
      "metadata": {
        "id": "rinrOTrxcqor"
      }
    },
    {
      "cell_type": "markdown",
      "source": [
        "### เเสดงตัวคั่นระหว่างคำ (พื้นฐานเป็นช่องว่างหนึ่งช่อง)"
      ],
      "metadata": {
        "id": "87V51fg2mZwx"
      }
    },
    {
      "cell_type": "code",
      "source": [
        "print ('stat','สถิติ','sids',sep=' สวย ') # ทำให้ตัวคั่นระหว่าง คำเป็น สวย"
      ],
      "metadata": {
        "colab": {
          "base_uri": "https://localhost:8080/"
        },
        "id": "IqUZTGCPdSCr",
        "outputId": "64809e57-402c-4c62-ee27-53ec44a8498b"
      },
      "execution_count": 15,
      "outputs": [
        {
          "output_type": "stream",
          "name": "stdout",
          "text": [
            "stat สวย สถิติ สวย sids\n"
          ]
        }
      ]
    },
    {
      "cell_type": "markdown",
      "source": [
        "###  end ให้เเสดงว่าตัวจบเป็นอะไร (พื้นฐานเป็น \\n หรือ จบบรรทัด)"
      ],
      "metadata": {
        "id": "-zeTQNQcmhna"
      }
    },
    {
      "cell_type": "code",
      "source": [
        "print('stat')\n",
        "print('sids') # จบโดยเเยกบรรทัด\n",
        "#---------------------------\n",
        "print('ฟฟฟ',end=', ') # จบโดยเเสดง ', '\n",
        "print('กกก')"
      ],
      "metadata": {
        "colab": {
          "base_uri": "https://localhost:8080/"
        },
        "id": "wn5dPb3al9jC",
        "outputId": "c8a7287f-1e8f-4c92-964e-3b252c47c93b"
      },
      "execution_count": 18,
      "outputs": [
        {
          "output_type": "stream",
          "name": "stdout",
          "text": [
            "stat\n",
            "sids\n",
            "ฟฟฟ, กกก\n"
          ]
        }
      ]
    },
    {
      "cell_type": "markdown",
      "source": [
        " # **ชนิดของตัวแปร**\n"
      ],
      "metadata": {
        "id": "rNtjhK6HmrSg"
      }
    },
    {
      "cell_type": "markdown",
      "source": [
        "##บอกชนิด"
      ],
      "metadata": {
        "id": "wbYuoVzTmwPR"
      }
    },
    {
      "cell_type": "code",
      "source": [
        "a = 12\n",
        "b = 1.3  #บอกชนิดที่ใช้"
      ],
      "metadata": {
        "id": "_bQB0q4jmqhN"
      },
      "execution_count": 19,
      "outputs": []
    },
    {
      "cell_type": "code",
      "source": [
        "print(type(a),type(b))"
      ],
      "metadata": {
        "colab": {
          "base_uri": "https://localhost:8080/"
        },
        "id": "Lq0W4lQkl9fi",
        "outputId": "007a9816-efe9-4a78-f3f5-dbaa0b04ed15"
      },
      "execution_count": 20,
      "outputs": [
        {
          "output_type": "stream",
          "name": "stdout",
          "text": [
            "<class 'int'> <class 'float'>\n"
          ]
        }
      ]
    },
    {
      "cell_type": "markdown",
      "source": [
        "## คำสั่ง+ - * /"
      ],
      "metadata": {
        "id": "X6HUcAX2nwFR"
      }
    },
    {
      "cell_type": "code",
      "source": [
        "a = 16\n",
        "b = 4"
      ],
      "metadata": {
        "id": "DyDEUIsvl9c9"
      },
      "execution_count": 21,
      "outputs": []
    },
    {
      "cell_type": "code",
      "source": [
        "c=a+b\n",
        "d=a-b\n",
        "e= a*b\n",
        "f = a/b\n",
        "\n",
        "print(c,d,e,f)"
      ],
      "metadata": {
        "colab": {
          "base_uri": "https://localhost:8080/"
        },
        "id": "pGh7ubFxnROn",
        "outputId": "0cc816eb-ba2c-435f-b139-bcc61f05d851"
      },
      "execution_count": 22,
      "outputs": [
        {
          "output_type": "stream",
          "name": "stdout",
          "text": [
            "20 12 64 4.0\n"
          ]
        }
      ]
    },
    {
      "cell_type": "markdown",
      "source": [
        "### modulo(%) หารเอาเศษไม่เอาส่วน"
      ],
      "metadata": {
        "id": "myxnQSzYmqMF"
      }
    },
    {
      "cell_type": "code",
      "source": [
        "10%3  ##เอาแค่เศษ อย่าหลง"
      ],
      "metadata": {
        "colab": {
          "base_uri": "https://localhost:8080/"
        },
        "id": "SedQtRbAl9aI",
        "outputId": "9e4b2a95-44d1-4d4f-f040-530e99898d00"
      },
      "execution_count": 24,
      "outputs": [
        {
          "output_type": "execute_result",
          "data": {
            "text/plain": [
              "1"
            ]
          },
          "metadata": {},
          "execution_count": 24
        }
      ]
    },
    {
      "cell_type": "markdown",
      "source": [
        "### เลขยกกำลัง **"
      ],
      "metadata": {
        "id": "z29W26g1oSP8"
      }
    },
    {
      "cell_type": "code",
      "source": [
        "4**3"
      ],
      "metadata": {
        "colab": {
          "base_uri": "https://localhost:8080/"
        },
        "id": "ps8TDC5Jl9Xc",
        "outputId": "1a67e99c-7a4f-4272-e671-45e09b5e0e0d"
      },
      "execution_count": 25,
      "outputs": [
        {
          "output_type": "execute_result",
          "data": {
            "text/plain": [
              "64"
            ]
          },
          "metadata": {},
          "execution_count": 25
        }
      ]
    },
    {
      "cell_type": "markdown",
      "source": [
        "## String หรือข้อความ"
      ],
      "metadata": {
        "id": "V1_F2tBDogBO"
      }
    },
    {
      "cell_type": "code",
      "source": [
        "'4'+'2'  # string -string  ทำไม่ได้ '1'-'3'"
      ],
      "metadata": {
        "colab": {
          "base_uri": "https://localhost:8080/",
          "height": 35
        },
        "id": "7v09QQ97l9Ur",
        "outputId": "7cf5248f-9833-4687-cf06-a19e72076337"
      },
      "execution_count": 26,
      "outputs": [
        {
          "output_type": "execute_result",
          "data": {
            "text/plain": [
              "'42'"
            ],
            "application/vnd.google.colaboratory.intrinsic+json": {
              "type": "string"
            }
          },
          "metadata": {},
          "execution_count": 26
        }
      ]
    },
    {
      "cell_type": "code",
      "source": [
        "4+2"
      ],
      "metadata": {
        "colab": {
          "base_uri": "https://localhost:8080/"
        },
        "id": "s9vvEA-2l9PQ",
        "outputId": "efb74d56-8007-48ed-afa2-638c5a52178b"
      },
      "execution_count": 27,
      "outputs": [
        {
          "output_type": "execute_result",
          "data": {
            "text/plain": [
              "6"
            ]
          },
          "metadata": {},
          "execution_count": 27
        }
      ]
    },
    {
      "cell_type": "code",
      "source": [
        "'2'*4"
      ],
      "metadata": {
        "colab": {
          "base_uri": "https://localhost:8080/",
          "height": 35
        },
        "id": "NTgshK9Il9NC",
        "outputId": "92856254-21b5-43cf-c450-fd5bee412944"
      },
      "execution_count": 31,
      "outputs": [
        {
          "output_type": "execute_result",
          "data": {
            "text/plain": [
              "'2222'"
            ],
            "application/vnd.google.colaboratory.intrinsic+json": {
              "type": "string"
            }
          },
          "metadata": {},
          "execution_count": 31
        }
      ]
    },
    {
      "cell_type": "markdown",
      "source": [
        "## Q1 print มาก ที่มี ก 100 ตัว"
      ],
      "metadata": {
        "id": "G3Jt3Lv9pQ6F"
      }
    },
    {
      "cell_type": "code",
      "source": [
        "'มา'+('ก'*100)"
      ],
      "metadata": {
        "colab": {
          "base_uri": "https://localhost:8080/",
          "height": 52
        },
        "id": "yirpbvgxl9Km",
        "outputId": "325810e6-4fea-4049-8a94-6341162ccb3f"
      },
      "execution_count": 32,
      "outputs": [
        {
          "output_type": "execute_result",
          "data": {
            "text/plain": [
              "'มากกกกกกกกกกกกกกกกกกกกกกกกกกกกกกกกกกกกกกกกกกกกกกกกกกกกกกกกกกกกกกกกกกกกกกกกกกกกกกกกกกกกกกกกกกกกกกกกกกกก'"
            ],
            "application/vnd.google.colaboratory.intrinsic+json": {
              "type": "string"
            }
          },
          "metadata": {},
          "execution_count": 32
        }
      ]
    },
    {
      "cell_type": "code",
      "source": [],
      "metadata": {
        "id": "MWre4TU9l9IO"
      },
      "execution_count": null,
      "outputs": []
    },
    {
      "cell_type": "code",
      "source": [],
      "metadata": {
        "id": "VPBT2wBnl9FR"
      },
      "execution_count": null,
      "outputs": []
    },
    {
      "cell_type": "code",
      "source": [],
      "metadata": {
        "id": "v9pqW-oil9Cs"
      },
      "execution_count": null,
      "outputs": []
    },
    {
      "cell_type": "code",
      "source": [],
      "metadata": {
        "id": "rcEJdMT0l8ss"
      },
      "execution_count": null,
      "outputs": []
    }
  ]
}