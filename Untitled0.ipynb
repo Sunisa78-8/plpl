{
  "nbformat": 4,
  "nbformat_minor": 0,
  "metadata": {
    "colab": {
      "provenance": [],
      "toc_visible": true,
      "authorship_tag": "ABX9TyPuTmXRCRXiE4Ex2UcKU7LH",
      "include_colab_link": true
    },
    "kernelspec": {
      "name": "python3",
      "display_name": "Python 3"
    },
    "language_info": {
      "name": "python"
    }
  },
  "cells": [
    {
      "cell_type": "markdown",
      "metadata": {
        "id": "view-in-github",
        "colab_type": "text"
      },
      "source": [
        "<a href=\"https://colab.research.google.com/github/Sunisa78-8/plpl/blob/main/Untitled0.ipynb\" target=\"_parent\"><img src=\"https://colab.research.google.com/assets/colab-badge.svg\" alt=\"Open In Colab\"/></a>"
      ]
    },
    {
      "cell_type": "markdown",
      "source": [
        "\n",
        "# PHYTHON101--------------------\n",
        "```\n",
        "\n"
      ],
      "metadata": {
        "id": "F277Io8tKB_R"
      }
    },
    {
      "cell_type": "markdown",
      "source": [
        "#การแสดงข้อความ Print\n",
        "print(ข้อความ)` = การแสดง Output ออกมาทางหน้าจอ"
      ],
      "metadata": {
        "id": "JDdUiywYbBBU"
      }
    },
    {
      "cell_type": "code",
      "execution_count": null,
      "metadata": {
        "colab": {
          "base_uri": "https://localhost:8080/"
        },
        "id": "ypmkQlqea4nU",
        "outputId": "f242bc87-a3b5-447b-e82c-b058c5b9a623"
      },
      "outputs": [
        {
          "output_type": "stream",
          "name": "stdout",
          "text": [
            "ploy\n"
          ]
        }
      ],
      "source": [
        "print('ploy')"
      ]
    },
    {
      "cell_type": "code",
      "source": [
        "'ployสวยมากๆ'"
      ],
      "metadata": {
        "colab": {
          "base_uri": "https://localhost:8080/",
          "height": 35
        },
        "id": "P971_Ii_bjMM",
        "outputId": "c0285208-b232-4eea-c31a-0066b803263a"
      },
      "execution_count": null,
      "outputs": [
        {
          "output_type": "execute_result",
          "data": {
            "text/plain": [
              "'ployสวยมากๆ'"
            ],
            "application/vnd.google.colaboratory.intrinsic+json": {
              "type": "string"
            }
          },
          "metadata": {},
          "execution_count": 2
        }
      ]
    },
    {
      "cell_type": "markdown",
      "source": [
        "## ผลการรันแสดงออกมา ได้ 2 แบบ\n",
        "1. ถ้าไม่มีตัวแปรมารับ ก็จะแสดงผลออกที่หน้าจอ\n",
        "2. ถ้ามีตัวแปรมารับ ผลการรันก็จะไปอยู่ในตัวแปร"
      ],
      "metadata": {
        "id": "08pGokFnbw9O"
      }
    },
    {
      "cell_type": "code",
      "source": [
        "4+3"
      ],
      "metadata": {
        "colab": {
          "base_uri": "https://localhost:8080/"
        },
        "id": "lwUHb_y0cQ3I",
        "outputId": "8719d49c-f1f6-475c-def2-c3db76362c0d"
      },
      "execution_count": null,
      "outputs": [
        {
          "output_type": "execute_result",
          "data": {
            "text/plain": [
              "7"
            ]
          },
          "metadata": {},
          "execution_count": 3
        }
      ]
    },
    {
      "cell_type": "code",
      "source": [
        "4-6"
      ],
      "metadata": {
        "colab": {
          "base_uri": "https://localhost:8080/"
        },
        "id": "Kym4zbSflmVB",
        "outputId": "495b64ec-c9ac-4c4a-8891-4693e94e9c86"
      },
      "execution_count": null,
      "outputs": [
        {
          "output_type": "execute_result",
          "data": {
            "text/plain": [
              "-2"
            ]
          },
          "metadata": {},
          "execution_count": 16
        }
      ]
    },
    {
      "cell_type": "code",
      "source": [
        "p= 3+6"
      ],
      "metadata": {
        "id": "tDrDIQtbcYLV"
      },
      "execution_count": null,
      "outputs": []
    },
    {
      "cell_type": "code",
      "source": [
        "p"
      ],
      "metadata": {
        "colab": {
          "base_uri": "https://localhost:8080/"
        },
        "id": "E68jSp4Jcckk",
        "outputId": "c948cf71-e1a8-4bf1-f715-e414ae9e5841"
      },
      "execution_count": null,
      "outputs": [
        {
          "output_type": "execute_result",
          "data": {
            "text/plain": [
              "9"
            ]
          },
          "metadata": {},
          "execution_count": 5
        }
      ]
    },
    {
      "cell_type": "markdown",
      "source": [
        "print() ->separator"
      ],
      "metadata": {
        "id": "rinrOTrxcqor"
      }
    },
    {
      "cell_type": "code",
      "source": [
        "a = 5\n",
        "b = 2\n",
        "print(f'{a}+{b} = {a+b}')"
      ],
      "metadata": {
        "id": "FZhasecKQnxk",
        "outputId": "44781893-f8ce-4101-fb31-e728a31b391a",
        "colab": {
          "base_uri": "https://localhost:8080/"
        }
      },
      "execution_count": null,
      "outputs": [
        {
          "output_type": "stream",
          "name": "stdout",
          "text": [
            "5+2 = 7\n"
          ]
        }
      ]
    },
    {
      "cell_type": "markdown",
      "source": [
        "### เเสดงตัวคั่นระหว่างคำ (พื้นฐานเป็นช่องว่างหนึ่งช่อง)"
      ],
      "metadata": {
        "id": "87V51fg2mZwx"
      }
    },
    {
      "cell_type": "code",
      "source": [
        "print ('stat','สถิติ','sids',sep=' สวย ') # ทำให้ตัวคั่นระหว่าง คำเป็น สวย"
      ],
      "metadata": {
        "colab": {
          "base_uri": "https://localhost:8080/"
        },
        "id": "IqUZTGCPdSCr",
        "outputId": "64809e57-402c-4c62-ee27-53ec44a8498b"
      },
      "execution_count": null,
      "outputs": [
        {
          "output_type": "stream",
          "name": "stdout",
          "text": [
            "stat สวย สถิติ สวย sids\n"
          ]
        }
      ]
    },
    {
      "cell_type": "markdown",
      "source": [
        "###  end ให้เเสดงว่าตัวจบเป็นอะไร (พื้นฐานเป็น \\n หรือ จบบรรทัด)"
      ],
      "metadata": {
        "id": "-zeTQNQcmhna"
      }
    },
    {
      "cell_type": "code",
      "source": [
        "print('stat')\n",
        "print('sids') # จบโดยเเยกบรรทัด\n",
        "#---------------------------\n",
        "print('ฟฟฟ',end=', ') # จบโดยเเสดง ', '\n",
        "print('กกก')"
      ],
      "metadata": {
        "colab": {
          "base_uri": "https://localhost:8080/"
        },
        "id": "wn5dPb3al9jC",
        "outputId": "c8a7287f-1e8f-4c92-964e-3b252c47c93b"
      },
      "execution_count": null,
      "outputs": [
        {
          "output_type": "stream",
          "name": "stdout",
          "text": [
            "stat\n",
            "sids\n",
            "ฟฟฟ, กกก\n"
          ]
        }
      ]
    },
    {
      "cell_type": "markdown",
      "source": [
        " # **ชนิดของตัวแปร**\n",
        " ข้อกำหนดในการตั้งชื่อตัวแปร\n",
        "1. พยายามตั้งชื่อให้สื่อความหมาย\n",
        "2. ต้องเป็นภาษาอังกฤษ\n",
        "3. ใช้ตัวเลขผสมกับตัวหนังสือได้ แต่ห้ามขึ้นต้นด้วยตัวเลข\n",
        "4. ห้ามมีเว้นวรรคในชื่อตัวแปร\n",
        "5.ตัวใหญ่ตัวเล็ก มีค่าไม่เท่ากัน"
      ],
      "metadata": {
        "id": "rNtjhK6HmrSg"
      }
    },
    {
      "cell_type": "markdown",
      "source": [
        "##ตรวจสอบชนิด"
      ],
      "metadata": {
        "id": "wbYuoVzTmwPR"
      }
    },
    {
      "cell_type": "code",
      "source": [
        "a = 12\n",
        "b = 1.3  #บอกชนิดที่ใช้"
      ],
      "metadata": {
        "id": "_bQB0q4jmqhN"
      },
      "execution_count": null,
      "outputs": []
    },
    {
      "cell_type": "code",
      "source": [
        "print(type(a),type(b))"
      ],
      "metadata": {
        "colab": {
          "base_uri": "https://localhost:8080/"
        },
        "id": "Lq0W4lQkl9fi",
        "outputId": "007a9816-efe9-4a78-f3f5-dbaa0b04ed15"
      },
      "execution_count": null,
      "outputs": [
        {
          "output_type": "stream",
          "name": "stdout",
          "text": [
            "<class 'int'> <class 'float'>\n"
          ]
        }
      ]
    },
    {
      "cell_type": "markdown",
      "source": [
        "## Char(ตัวอักษร)\n",
        "\n",
        "\n",
        "*   มี 1 ตัว = ตัวอักษร\n",
        "*   เอาตัวอักษรมาต่อกัน = ข้อความ\n",
        "*   operator ในการ บวก ลบ คูณ หาร เหมือนกับ 'ข้อความ'\n",
        "\n",
        "\n",
        "\n",
        "\n",
        "\n",
        "\n"
      ],
      "metadata": {
        "id": "bdyd04qbIdV7"
      }
    },
    {
      "cell_type": "code",
      "source": [
        "a='s'"
      ],
      "metadata": {
        "id": "KBdlDzCzLIaZ"
      },
      "execution_count": null,
      "outputs": []
    },
    {
      "cell_type": "code",
      "source": [
        "b='unisa'"
      ],
      "metadata": {
        "id": "jfNVz9MkLSFB"
      },
      "execution_count": null,
      "outputs": []
    },
    {
      "cell_type": "code",
      "source": [
        "print(f'a={a} b={b}, then {a}+{b} = {a+b}')"
      ],
      "metadata": {
        "colab": {
          "base_uri": "https://localhost:8080/"
        },
        "id": "9garOWoLLFje",
        "outputId": "02c8e629-8daa-4a74-d672-73d9e2f41e4f"
      },
      "execution_count": null,
      "outputs": [
        {
          "output_type": "stream",
          "name": "stdout",
          "text": [
            "a=s b=unisa, then s+unisa = sunisa\n"
          ]
        }
      ]
    },
    {
      "cell_type": "code",
      "source": [
        "print(a+b)"
      ],
      "metadata": {
        "colab": {
          "base_uri": "https://localhost:8080/"
        },
        "id": "68DvgX9fLW2F",
        "outputId": "0b0c5d37-e917-4afc-faad-d885e388ea3b"
      },
      "execution_count": null,
      "outputs": [
        {
          "output_type": "stream",
          "name": "stdout",
          "text": [
            "sunisa\n"
          ]
        }
      ]
    },
    {
      "cell_type": "markdown",
      "source": [
        "##int(eger) (จำนวนเต็ม)"
      ],
      "metadata": {
        "id": "YexNpSq5LlZK"
      }
    },
    {
      "cell_type": "code",
      "source": [
        "int_a = 7\n",
        "int_b = 2"
      ],
      "metadata": {
        "id": "JBwB1wQPLqE9"
      },
      "execution_count": null,
      "outputs": []
    },
    {
      "cell_type": "code",
      "source": [
        "int_c = int_a + int_b #บอกค่าที่บอกและชนิด\n",
        "print(int_c,type(int_c))"
      ],
      "metadata": {
        "colab": {
          "base_uri": "https://localhost:8080/"
        },
        "id": "6lmnCrkRLtFS",
        "outputId": "639aab8d-c6d8-4d72-c542-71c0af6d068c"
      },
      "execution_count": null,
      "outputs": [
        {
          "output_type": "stream",
          "name": "stdout",
          "text": [
            "9 <class 'int'>\n"
          ]
        }
      ]
    },
    {
      "cell_type": "markdown",
      "source": [
        "## float (จำนวนจริง ทศนิยม)\n",
        "    double เหมือน float เเต่แค่ใช้พื้นที่เก็บข้อมูลมากกว่า"
      ],
      "metadata": {
        "id": "xXZ7smktMBsV"
      }
    },
    {
      "cell_type": "code",
      "source": [
        "fl_a = 7.  # เขียนแค่จุดก็ได้\n",
        "fl_b = 2.571"
      ],
      "metadata": {
        "id": "CeueMW2pMENp"
      },
      "execution_count": null,
      "outputs": []
    },
    {
      "cell_type": "code",
      "source": [
        "fl_a\n"
      ],
      "metadata": {
        "colab": {
          "base_uri": "https://localhost:8080/"
        },
        "id": "866H7SfPMGj8",
        "outputId": "a00fc759-2dac-4bb6-ceb6-a215fa81c06d"
      },
      "execution_count": null,
      "outputs": [
        {
          "output_type": "execute_result",
          "data": {
            "text/plain": [
              "7.0"
            ]
          },
          "metadata": {},
          "execution_count": 14
        }
      ]
    },
    {
      "cell_type": "code",
      "source": [
        "fl_b"
      ],
      "metadata": {
        "colab": {
          "base_uri": "https://localhost:8080/"
        },
        "id": "k0WjgBnyMPzW",
        "outputId": "cf2a74a7-2079-4b7d-b5ae-b21e36b9c9bc"
      },
      "execution_count": null,
      "outputs": [
        {
          "output_type": "execute_result",
          "data": {
            "text/plain": [
              "2.571"
            ]
          },
          "metadata": {},
          "execution_count": 15
        }
      ]
    },
    {
      "cell_type": "code",
      "source": [
        "print(fl_a,type(fl_a))"
      ],
      "metadata": {
        "colab": {
          "base_uri": "https://localhost:8080/"
        },
        "id": "5gkUtsHHMUbl",
        "outputId": "3e966d3b-19f8-41fe-fe74-625897a8d9a8"
      },
      "execution_count": null,
      "outputs": [
        {
          "output_type": "stream",
          "name": "stdout",
          "text": [
            "7.0 <class 'float'>\n"
          ]
        }
      ]
    },
    {
      "cell_type": "code",
      "source": [
        "z = 7/3\n",
        "print(z,type(z))"
      ],
      "metadata": {
        "colab": {
          "base_uri": "https://localhost:8080/"
        },
        "id": "iP_kc9bUMYbM",
        "outputId": "2c6c492f-c5a9-4688-a991-6ffe3edc4bd4"
      },
      "execution_count": null,
      "outputs": [
        {
          "output_type": "stream",
          "name": "stdout",
          "text": [
            "2.3333333333333335 <class 'float'>\n"
          ]
        }
      ]
    },
    {
      "cell_type": "markdown",
      "source": [
        "## boolean (ตัวแปรที่มีค่า True หรือ False) ตรรกศาสตร์"
      ],
      "metadata": {
        "id": "PdHhCFCpMpN9"
      }
    },
    {
      "cell_type": "code",
      "source": [
        "B_T=True"
      ],
      "metadata": {
        "id": "JsRW4pHmM36O"
      },
      "execution_count": null,
      "outputs": []
    },
    {
      "cell_type": "code",
      "source": [
        "B_F=False"
      ],
      "metadata": {
        "id": "fDfx1CuNM33q"
      },
      "execution_count": null,
      "outputs": []
    },
    {
      "cell_type": "code",
      "source": [
        "print(B_T and B_F),\n",
        "print(B_T or B_F)"
      ],
      "metadata": {
        "colab": {
          "base_uri": "https://localhost:8080/"
        },
        "id": "CBbPSHWkM305",
        "outputId": "5823505c-1049-4d47-b03a-d5fe872a92c9"
      },
      "execution_count": null,
      "outputs": [
        {
          "output_type": "stream",
          "name": "stdout",
          "text": [
            "False\n",
            "True\n"
          ]
        }
      ]
    },
    {
      "cell_type": "markdown",
      "source": [
        "## การแปลงชนิดตัวแปร"
      ],
      "metadata": {
        "id": "TN-o1TnBOiUg"
      }
    },
    {
      "cell_type": "code",
      "source": [
        "int_a = 7\n",
        "int_b = 2\n",
        "fl_a = 7.0\n",
        "fl_b = 2.571\n"
      ],
      "metadata": {
        "id": "BuVlvZgsOsyQ"
      },
      "execution_count": null,
      "outputs": []
    },
    {
      "cell_type": "code",
      "source": [
        "print(f'int_a = {int_a} int_b = {int_b} fl_a = {fl_a} fl_b = {fl_b}')"
      ],
      "metadata": {
        "colab": {
          "base_uri": "https://localhost:8080/"
        },
        "id": "ZvhgphcLOiAE",
        "outputId": "9e7b711a-66b4-4db4-c7ad-e950865e5660"
      },
      "execution_count": null,
      "outputs": [
        {
          "output_type": "stream",
          "name": "stdout",
          "text": [
            "int_a = 7 int_b = 2 fl_a = 7.0 fl_b = 2.571\n"
          ]
        }
      ]
    },
    {
      "cell_type": "code",
      "source": [
        "str_a = '6'   # str บวก ลบ คูณหารกันไม่ได้\n",
        "str_b = '-2'"
      ],
      "metadata": {
        "id": "R-wXi10vPETJ"
      },
      "execution_count": null,
      "outputs": []
    },
    {
      "cell_type": "code",
      "source": [
        "str_a2int = int(str_a) #เปลี่ยน str เป็น int\n",
        "print(f'ตัวแปร str_a2int ค่าคือ {str_a2int} ชนิด {type(str_a2int)}')"
      ],
      "metadata": {
        "colab": {
          "base_uri": "https://localhost:8080/"
        },
        "id": "FaqFzvvPPHK-",
        "outputId": "bfaaeee6-e59f-4393-e62f-10c5cdcdd056"
      },
      "execution_count": null,
      "outputs": [
        {
          "output_type": "stream",
          "name": "stdout",
          "text": [
            "ตัวแปร str_a2int ค่าคือ 6 ชนิด <class 'int'>\n"
          ]
        }
      ]
    },
    {
      "cell_type": "code",
      "source": [
        "#str_a + int_a  #บวกกันไม่ได้"
      ],
      "metadata": {
        "id": "yEzSgiaNPJeH"
      },
      "execution_count": null,
      "outputs": []
    },
    {
      "cell_type": "code",
      "source": [
        "str_a2int + int_a"
      ],
      "metadata": {
        "colab": {
          "base_uri": "https://localhost:8080/"
        },
        "id": "JF8kVBFjPSQz",
        "outputId": "d23e0005-c67b-4a5c-d37d-bccdf6445690"
      },
      "execution_count": null,
      "outputs": [
        {
          "output_type": "execute_result",
          "data": {
            "text/plain": [
              "13"
            ]
          },
          "metadata": {},
          "execution_count": 31
        }
      ]
    },
    {
      "cell_type": "code",
      "source": [
        "int(fl_b) # fl_b = 2.571 เปลี่ยนเป็น int ได้ 2 เพราะตัดทิ้งหลังทศ หมด"
      ],
      "metadata": {
        "colab": {
          "base_uri": "https://localhost:8080/"
        },
        "id": "OQYDoqONPUvB",
        "outputId": "21e5ffe6-3a70-4e81-c39d-c4ea5d0510b1"
      },
      "execution_count": null,
      "outputs": [
        {
          "output_type": "execute_result",
          "data": {
            "text/plain": [
              "2"
            ]
          },
          "metadata": {},
          "execution_count": 32
        }
      ]
    },
    {
      "cell_type": "code",
      "source": [
        "int_a + float(str_b)\n"
      ],
      "metadata": {
        "colab": {
          "base_uri": "https://localhost:8080/"
        },
        "id": "48TLU20rPX3d",
        "outputId": "bfe5cbc7-b48f-40db-97a7-552920e4a7b3"
      },
      "execution_count": null,
      "outputs": [
        {
          "output_type": "execute_result",
          "data": {
            "text/plain": [
              "5.0"
            ]
          },
          "metadata": {},
          "execution_count": 34
        }
      ]
    },
    {
      "cell_type": "code",
      "source": [
        "int(int_a +float(str_b))"
      ],
      "metadata": {
        "colab": {
          "base_uri": "https://localhost:8080/"
        },
        "id": "z2k9AQutPct6",
        "outputId": "e09dfe48-f61e-4efc-9d3d-d005cc5f5677"
      },
      "execution_count": null,
      "outputs": [
        {
          "output_type": "execute_result",
          "data": {
            "text/plain": [
              "5"
            ]
          },
          "metadata": {},
          "execution_count": 35
        }
      ]
    },
    {
      "cell_type": "code",
      "source": [
        "float(int_a) #เปลี่ยนเป็น ทศ"
      ],
      "metadata": {
        "colab": {
          "base_uri": "https://localhost:8080/"
        },
        "id": "t5CIosQCPfjO",
        "outputId": "b3f9f2dd-c5eb-4792-ea18-645189329db9"
      },
      "execution_count": null,
      "outputs": [
        {
          "output_type": "execute_result",
          "data": {
            "text/plain": [
              "7.0"
            ]
          },
          "metadata": {},
          "execution_count": 36
        }
      ]
    },
    {
      "cell_type": "code",
      "source": [
        "str(fl_b)  #เปลี่ยนเป็นข้อความ"
      ],
      "metadata": {
        "colab": {
          "base_uri": "https://localhost:8080/",
          "height": 35
        },
        "id": "0PBhz0t2Pjh5",
        "outputId": "acb5a70c-bed6-4a74-871a-9d3890d39bb3"
      },
      "execution_count": null,
      "outputs": [
        {
          "output_type": "execute_result",
          "data": {
            "text/plain": [
              "'2.571'"
            ],
            "application/vnd.google.colaboratory.intrinsic+json": {
              "type": "string"
            }
          },
          "metadata": {},
          "execution_count": 37
        }
      ]
    },
    {
      "cell_type": "markdown",
      "source": [
        "## ทศนิยมกี่ตำแหน่ง decimal places || digit\n",
        "\n",
        "decimal places คือ {ข้างหน้าตัวแปร หลัง เป็นตำแหน่ง}\n"
      ],
      "metadata": {
        "id": "VtaTMSOas0ny"
      }
    },
    {
      "cell_type": "code",
      "source": [
        "f'{1.009:.2f}'  #ข้างหลังคือบอกจะเอาทศนิยม"
      ],
      "metadata": {
        "colab": {
          "base_uri": "https://localhost:8080/",
          "height": 35
        },
        "id": "PwKB_5BZtB5l",
        "outputId": "2519112f-687d-44f5-e65e-d632e9530b6d"
      },
      "execution_count": null,
      "outputs": [
        {
          "output_type": "execute_result",
          "data": {
            "text/plain": [
              "'1.01'"
            ],
            "application/vnd.google.colaboratory.intrinsic+json": {
              "type": "string"
            }
          },
          "metadata": {},
          "execution_count": 41
        }
      ]
    },
    {
      "cell_type": "code",
      "source": [
        "f'{1:03d}'"
      ],
      "metadata": {
        "colab": {
          "base_uri": "https://localhost:8080/",
          "height": 35
        },
        "id": "tCVSMHP1tD45",
        "outputId": "f3a9cd6d-4fb0-423b-acd4-1bc5ca62a61a"
      },
      "execution_count": null,
      "outputs": [
        {
          "output_type": "execute_result",
          "data": {
            "text/plain": [
              "'001'"
            ],
            "application/vnd.google.colaboratory.intrinsic+json": {
              "type": "string"
            }
          },
          "metadata": {},
          "execution_count": 42
        }
      ]
    },
    {
      "cell_type": "code",
      "source": [
        "f'{1:13d}'  #digit\n"
      ],
      "metadata": {
        "colab": {
          "base_uri": "https://localhost:8080/",
          "height": 35
        },
        "id": "xZzkQENUtatP",
        "outputId": "2fb4784b-6887-41ee-b278-51d11c634eaa"
      },
      "execution_count": null,
      "outputs": [
        {
          "output_type": "execute_result",
          "data": {
            "text/plain": [
              "'            1'"
            ],
            "application/vnd.google.colaboratory.intrinsic+json": {
              "type": "string"
            }
          },
          "metadata": {},
          "execution_count": 43
        }
      ]
    },
    {
      "cell_type": "markdown",
      "source": [
        "## คำสั่ง+ - * /\n",
        " operators (บวก (+), ลบ (-), คูณ (*), หาร (/), modulo (%), and (&), or (|),ยกกำลัง(**))"
      ],
      "metadata": {
        "id": "X6HUcAX2nwFR"
      }
    },
    {
      "cell_type": "code",
      "source": [
        "a = 16\n",
        "b = 4"
      ],
      "metadata": {
        "id": "DyDEUIsvl9c9"
      },
      "execution_count": null,
      "outputs": []
    },
    {
      "cell_type": "code",
      "source": [
        "c=a+b\n",
        "d=a-b\n",
        "e= a*b\n",
        "f = a/b\n",
        "\n",
        "print(c,d,e,f)"
      ],
      "metadata": {
        "colab": {
          "base_uri": "https://localhost:8080/"
        },
        "id": "pGh7ubFxnROn",
        "outputId": "0cc816eb-ba2c-435f-b139-bcc61f05d851"
      },
      "execution_count": null,
      "outputs": [
        {
          "output_type": "stream",
          "name": "stdout",
          "text": [
            "20 12 64 4.0\n"
          ]
        }
      ]
    },
    {
      "cell_type": "markdown",
      "source": [
        "### modulo(%) หารเอาเศษไม่เอาส่วน"
      ],
      "metadata": {
        "id": "myxnQSzYmqMF"
      }
    },
    {
      "cell_type": "code",
      "source": [
        "10%3  ##เอาแค่เศษ อย่าหลง"
      ],
      "metadata": {
        "colab": {
          "base_uri": "https://localhost:8080/"
        },
        "id": "SedQtRbAl9aI",
        "outputId": "9e4b2a95-44d1-4d4f-f040-530e99898d00"
      },
      "execution_count": null,
      "outputs": [
        {
          "output_type": "execute_result",
          "data": {
            "text/plain": [
              "1"
            ]
          },
          "metadata": {},
          "execution_count": 24
        }
      ]
    },
    {
      "cell_type": "code",
      "source": [
        "9%2 #การหาร เอาเศษ  เช็คได้ว่าเป็นคู่หรือคี่"
      ],
      "metadata": {
        "id": "EQ0QzE5qQ5k1",
        "outputId": "6786f34c-07be-4c83-b1ca-9761dafc0f6d",
        "colab": {
          "base_uri": "https://localhost:8080/"
        }
      },
      "execution_count": null,
      "outputs": [
        {
          "output_type": "execute_result",
          "data": {
            "text/plain": [
              "1"
            ]
          },
          "metadata": {},
          "execution_count": 40
        }
      ]
    },
    {
      "cell_type": "code",
      "source": [
        "100%2  #ไม่มีศษ"
      ],
      "metadata": {
        "id": "PLiMokFlQ7bB",
        "outputId": "cbe1560e-0635-4df3-e773-db5405efc084",
        "colab": {
          "base_uri": "https://localhost:8080/"
        }
      },
      "execution_count": null,
      "outputs": [
        {
          "output_type": "execute_result",
          "data": {
            "text/plain": [
              "0"
            ]
          },
          "metadata": {},
          "execution_count": 42
        }
      ]
    },
    {
      "cell_type": "markdown",
      "source": [
        "### เลขยกกำลัง **"
      ],
      "metadata": {
        "id": "z29W26g1oSP8"
      }
    },
    {
      "cell_type": "code",
      "source": [
        "4**3"
      ],
      "metadata": {
        "colab": {
          "base_uri": "https://localhost:8080/"
        },
        "id": "ps8TDC5Jl9Xc",
        "outputId": "1a67e99c-7a4f-4272-e671-45e09b5e0e0d"
      },
      "execution_count": null,
      "outputs": [
        {
          "output_type": "execute_result",
          "data": {
            "text/plain": [
              "64"
            ]
          },
          "metadata": {},
          "execution_count": 25
        }
      ]
    },
    {
      "cell_type": "markdown",
      "source": [
        "### String หรือข้อความกับเลข"
      ],
      "metadata": {
        "id": "V1_F2tBDogBO"
      }
    },
    {
      "cell_type": "code",
      "source": [
        "'4'+'2'  # string -string  ทำไม่ได้ '1'-'3'"
      ],
      "metadata": {
        "colab": {
          "base_uri": "https://localhost:8080/",
          "height": 35
        },
        "id": "7v09QQ97l9Ur",
        "outputId": "7cf5248f-9833-4687-cf06-a19e72076337"
      },
      "execution_count": null,
      "outputs": [
        {
          "output_type": "execute_result",
          "data": {
            "text/plain": [
              "'42'"
            ],
            "application/vnd.google.colaboratory.intrinsic+json": {
              "type": "string"
            }
          },
          "metadata": {},
          "execution_count": 26
        }
      ]
    },
    {
      "cell_type": "code",
      "source": [
        "4+2"
      ],
      "metadata": {
        "colab": {
          "base_uri": "https://localhost:8080/"
        },
        "id": "s9vvEA-2l9PQ",
        "outputId": "efb74d56-8007-48ed-afa2-638c5a52178b"
      },
      "execution_count": null,
      "outputs": [
        {
          "output_type": "execute_result",
          "data": {
            "text/plain": [
              "6"
            ]
          },
          "metadata": {},
          "execution_count": 27
        }
      ]
    },
    {
      "cell_type": "code",
      "source": [
        "'2'*4"
      ],
      "metadata": {
        "colab": {
          "base_uri": "https://localhost:8080/",
          "height": 35
        },
        "id": "NTgshK9Il9NC",
        "outputId": "92856254-21b5-43cf-c450-fd5bee412944"
      },
      "execution_count": null,
      "outputs": [
        {
          "output_type": "execute_result",
          "data": {
            "text/plain": [
              "'2222'"
            ],
            "application/vnd.google.colaboratory.intrinsic+json": {
              "type": "string"
            }
          },
          "metadata": {},
          "execution_count": 31
        }
      ]
    },
    {
      "cell_type": "markdown",
      "source": [
        "## Q1 print มาก ที่มี ก 100 ตัว"
      ],
      "metadata": {
        "id": "G3Jt3Lv9pQ6F"
      }
    },
    {
      "cell_type": "code",
      "source": [
        "'มา'+('ก'*100)"
      ],
      "metadata": {
        "colab": {
          "base_uri": "https://localhost:8080/",
          "height": 52
        },
        "id": "yirpbvgxl9Km",
        "outputId": "325810e6-4fea-4049-8a94-6341162ccb3f"
      },
      "execution_count": null,
      "outputs": [
        {
          "output_type": "execute_result",
          "data": {
            "text/plain": [
              "'มากกกกกกกกกกกกกกกกกกกกกกกกกกกกกกกกกกกกกกกกกกกกกกกกกกกกกกกกกกกกกกกกกกกกกกกกกกกกกกกกกกกกกกกกกกกกกกกกกกกก'"
            ],
            "application/vnd.google.colaboratory.intrinsic+json": {
              "type": "string"
            }
          },
          "metadata": {},
          "execution_count": 32
        }
      ]
    },
    {
      "cell_type": "markdown",
      "source": [
        " # print code*** ร่วมกับข้อความ (Advanced Printing)\n",
        "เราสามารถ print code ร่วมกับข้อความได้\n",
        "\n",
        "```python\n",
        "print(f'ข้อความ{code}')\n",
        "```\n",
        "\n",
        "```Python\n",
        "print(f'หนึ่ง บวก สอง (1+2) เท่ากับ สาม ({1+2})')\n",
        "```"
      ],
      "metadata": {
        "id": "kIqmnvp2rjiA"
      }
    },
    {
      "cell_type": "code",
      "source": [
        "print(f'หนึ่ง บวก สอง (1+2) เท่ากับ สาม ({1+2})')  # {}  Curly Brackets เอาไว้ใส่ code"
      ],
      "metadata": {
        "colab": {
          "base_uri": "https://localhost:8080/"
        },
        "id": "MWre4TU9l9IO",
        "outputId": "87bce2c8-ff19-44ac-f992-939c745867f5"
      },
      "execution_count": null,
      "outputs": [
        {
          "output_type": "stream",
          "name": "stdout",
          "text": [
            "หนึ่ง บวก สอง (1+2) เท่ากับ สาม (3)\n"
          ]
        }
      ]
    },
    {
      "cell_type": "code",
      "source": [
        "c = 5+10\n",
        "print(f'ตัวแปร c = {c}')"
      ],
      "metadata": {
        "colab": {
          "base_uri": "https://localhost:8080/"
        },
        "id": "VPBT2wBnl9FR",
        "outputId": "458e2adb-06af-44f8-b117-184620a014a1"
      },
      "execution_count": null,
      "outputs": [
        {
          "output_type": "stream",
          "name": "stdout",
          "text": [
            "ตัวแปร c = 15\n"
          ]
        }
      ]
    },
    {
      "cell_type": "code",
      "source": [
        "print(f'ส่วนนี้ไม่ใช่ code>2*3 3-5 // ส่วนของ code>{2*3} {3-5}')"
      ],
      "metadata": {
        "colab": {
          "base_uri": "https://localhost:8080/"
        },
        "id": "v9pqW-oil9Cs",
        "outputId": "78942925-6815-4c14-d56c-57516ab1069b"
      },
      "execution_count": null,
      "outputs": [
        {
          "output_type": "stream",
          "name": "stdout",
          "text": [
            "ส่วนนี้ไม่ใช่ code>2*3 3-5 // ส่วนของ code>6 -2\n"
          ]
        }
      ]
    },
    {
      "cell_type": "code",
      "source": [
        "print(f'หนึ่ง บวก สอง (1+2) เท่ากับ สาม ({1+2})') #Curly Brackets"
      ],
      "metadata": {
        "colab": {
          "base_uri": "https://localhost:8080/"
        },
        "id": "rcEJdMT0l8ss",
        "outputId": "848f0b87-ad31-403b-8365-e1118df865b9"
      },
      "execution_count": null,
      "outputs": [
        {
          "output_type": "stream",
          "name": "stdout",
          "text": [
            "หนึ่ง บวก สอง (1+2) เท่ากับ สาม (3)\n"
          ]
        }
      ]
    },
    {
      "cell_type": "markdown",
      "source": [
        "# String operations #การทำงานกับข้อความ"
      ],
      "metadata": {
        "id": "oe_gAxUDRcQt"
      }
    },
    {
      "cell_type": "code",
      "source": [
        "st_test1 = 'Department of Statistics, '\n",
        "st_test2 = 'Faculty of Science'"
      ],
      "metadata": {
        "id": "bvxk-_PeRmBx"
      },
      "execution_count": null,
      "outputs": []
    },
    {
      "cell_type": "code",
      "source": [
        "print(3*st_test1)"
      ],
      "metadata": {
        "id": "R8nENFUiRtv6",
        "outputId": "35922ce2-f982-445b-b382-927b20ae1e83",
        "colab": {
          "base_uri": "https://localhost:8080/"
        }
      },
      "execution_count": null,
      "outputs": [
        {
          "output_type": "stream",
          "name": "stdout",
          "text": [
            "Department of Statistics, Department of Statistics, Department of Statistics, \n"
          ]
        }
      ]
    },
    {
      "cell_type": "code",
      "source": [
        "print(st_test1+st_test2) # บวก คือการต่อข้อความ"
      ],
      "metadata": {
        "id": "WVNmmP9qRn86",
        "outputId": "05f6fdc5-28b8-4e21-e141-df08d0aaad34",
        "colab": {
          "base_uri": "https://localhost:8080/"
        }
      },
      "execution_count": null,
      "outputs": [
        {
          "output_type": "stream",
          "name": "stdout",
          "text": [
            "Department of Statistics, Faculty of Science\n"
          ]
        }
      ]
    },
    {
      "cell_type": "code",
      "source": [
        "print(10*'t') # * คือการทำซ้ำ"
      ],
      "metadata": {
        "id": "wcNK0cbRRrBH",
        "outputId": "569e5b30-0fbc-4190-91f7-a6db27143855",
        "colab": {
          "base_uri": "https://localhost:8080/"
        }
      },
      "execution_count": null,
      "outputs": [
        {
          "output_type": "stream",
          "name": "stdout",
          "text": [
            "tttttttttt\n"
          ]
        }
      ]
    },
    {
      "cell_type": "markdown",
      "source": [
        "## Replace คือการวางแทนที่ string"
      ],
      "metadata": {
        "id": "-0xdoZThR3p6"
      }
    },
    {
      "cell_type": "code",
      "source": [
        "st_test1 = 'Department of Statistics, '"
      ],
      "metadata": {
        "id": "Vdk3jK1OSFJY"
      },
      "execution_count": null,
      "outputs": []
    },
    {
      "cell_type": "code",
      "source": [
        "st_test1.replace('e',' อี') #('e',' ') ('แทนที่อะไร','ด้วยอะไร')\n"
      ],
      "metadata": {
        "id": "skoRXwAUR-8o",
        "outputId": "48736b64-c271-42a7-deac-5c7b15aedbd9",
        "colab": {
          "base_uri": "https://localhost:8080/",
          "height": 35
        }
      },
      "execution_count": null,
      "outputs": [
        {
          "output_type": "execute_result",
          "data": {
            "text/plain": [
              "'D อีpartm อีnt of Statistics, '"
            ],
            "application/vnd.google.colaboratory.intrinsic+json": {
              "type": "string"
            }
          },
          "metadata": {},
          "execution_count": 56
        }
      ]
    },
    {
      "cell_type": "code",
      "source": [
        "'เ เ ถมแ เเ แแแ เ เ แ'.replace('เ เ','แ')"
      ],
      "metadata": {
        "id": "PxFAsWN8SuOp",
        "outputId": "3c6a1020-c3b2-4976-9101-6fe609c442db",
        "colab": {
          "base_uri": "https://localhost:8080/",
          "height": 35
        }
      },
      "execution_count": null,
      "outputs": [
        {
          "output_type": "execute_result",
          "data": {
            "text/plain": [
              "'แ ถมแ เเ แแแ แ แ'"
            ],
            "application/vnd.google.colaboratory.intrinsic+json": {
              "type": "string"
            }
          },
          "metadata": {},
          "execution_count": 59
        }
      ]
    },
    {
      "cell_type": "code",
      "source": [
        "'Department of Statistics, '.replace('a','x')"
      ],
      "metadata": {
        "id": "kVVBRhdsS-xw",
        "outputId": "1aef08ba-257a-4fae-c86a-9e329cf9de7a",
        "colab": {
          "base_uri": "https://localhost:8080/",
          "height": 35
        }
      },
      "execution_count": null,
      "outputs": [
        {
          "output_type": "execute_result",
          "data": {
            "text/plain": [
              "'Depxrtment of Stxtistics, '"
            ],
            "application/vnd.google.colaboratory.intrinsic+json": {
              "type": "string"
            }
          },
          "metadata": {},
          "execution_count": 62
        }
      ]
    },
    {
      "cell_type": "code",
      "source": [
        "st_test1.replace('e','') ## ' '  = ช่องว่าง, '' = ลบ"
      ],
      "metadata": {
        "id": "ndrf62YkS4ei",
        "outputId": "d2fb6e65-309d-45f6-ae5c-7c06461b81e3",
        "colab": {
          "base_uri": "https://localhost:8080/",
          "height": 35
        }
      },
      "execution_count": null,
      "outputs": [
        {
          "output_type": "execute_result",
          "data": {
            "text/plain": [
              "'Dpartmnt of Statistics, '"
            ],
            "application/vnd.google.colaboratory.intrinsic+json": {
              "type": "string"
            }
          },
          "metadata": {},
          "execution_count": 60
        }
      ]
    },
    {
      "cell_type": "markdown",
      "source": [
        "## ```split()``` แยก string"
      ],
      "metadata": {
        "id": "AIBKowbsTEs3"
      }
    },
    {
      "cell_type": "code",
      "source": [
        "'a b c d e f g'.split() #แยกด้วยช่องว่าง"
      ],
      "metadata": {
        "id": "GG0VBuZtTG7i",
        "outputId": "dfe2fdc5-9cd7-4101-fa8c-ab33f3affc9a",
        "colab": {
          "base_uri": "https://localhost:8080/"
        }
      },
      "execution_count": null,
      "outputs": [
        {
          "output_type": "execute_result",
          "data": {
            "text/plain": [
              "['a', 'b', 'c', 'd', 'e', 'f', 'g']"
            ]
          },
          "metadata": {},
          "execution_count": 3
        }
      ]
    },
    {
      "cell_type": "code",
      "source": [
        "'ab cd efg'.split() #แยกด้วยช่องว่าง"
      ],
      "metadata": {
        "id": "DWtOBZ9bTIMD",
        "outputId": "652d4b38-8131-4a9b-942d-bf2a71194e57",
        "colab": {
          "base_uri": "https://localhost:8080/"
        }
      },
      "execution_count": null,
      "outputs": [
        {
          "output_type": "execute_result",
          "data": {
            "text/plain": [
              "['ab', 'cd', 'efg']"
            ]
          },
          "metadata": {},
          "execution_count": 8
        }
      ]
    },
    {
      "cell_type": "code",
      "source": [
        "'a,b,c,e,d/k/l/o/p'.split(',')"
      ],
      "metadata": {
        "id": "pbq2lc_lTJSP",
        "outputId": "de3b7fd3-d64f-4c93-cddd-8523f53e5a2d",
        "colab": {
          "base_uri": "https://localhost:8080/"
        }
      },
      "execution_count": null,
      "outputs": [
        {
          "output_type": "execute_result",
          "data": {
            "text/plain": [
              "['a', 'b', 'c', 'e', 'd/k/l/o/p']"
            ]
          },
          "metadata": {},
          "execution_count": 10
        }
      ]
    },
    {
      "cell_type": "markdown",
      "source": [
        "#END-----------------------------"
      ],
      "metadata": {
        "id": "7KyuGLM-KMoR"
      }
    },
    {
      "cell_type": "markdown",
      "source": [
        "#Data Structure (โครงสร้างข้อมูล) 2\n",
        "\n",
        "\n",
        "การเก็บข้อมูลหลาย ๆ ตัวไว้ด้วยกันอย่างเป็นระเบียบ เมื่องานเริ่มยากขึ้น เก็บให้ระเบียบมากขึ้น จะเก็บแบบแรกคือ list"
      ],
      "metadata": {
        "id": "R_z8daHYLDQO"
      }
    },
    {
      "cell_type": "markdown",
      "source": [
        "## ```list()```\n",
        "\n",
        "- เก็บอะไรก็ได้\n",
        "- ลำดับในการเก็บ มีความสำคัญ"
      ],
      "metadata": {
        "id": "zCkybMh2Mr27"
      }
    },
    {
      "cell_type": "code",
      "source": [
        "list_a = [1,2,3,4,5,6] #กำหนดตัวแปร  ----------วิธีสร้าง- กำหนดตัวแปรที่จะเอา คั่นด้วยคอมม่า พบจบละปิด นี่คือสร้างสร็จ"
      ],
      "metadata": {
        "id": "CIqfBbEzMzmg"
      },
      "execution_count": 28,
      "outputs": []
    },
    {
      "cell_type": "code",
      "source": [
        "list_a # [ ] square brackets เอาไว้ครอบ list"
      ],
      "metadata": {
        "id": "sLoJF2VXRK9Y",
        "outputId": "69e4449b-c18c-479b-8ae9-44c55240be79",
        "colab": {
          "base_uri": "https://localhost:8080/"
        }
      },
      "execution_count": 2,
      "outputs": [
        {
          "output_type": "execute_result",
          "data": {
            "text/plain": [
              "[1, 2, 3, 4, 5, 6]"
            ]
          },
          "metadata": {},
          "execution_count": 2
        }
      ]
    },
    {
      "cell_type": "code",
      "source": [
        "list_b = ['ab',2,3.14 , list_a] # กำหนดตัวแปร จะก็บไรก็ได้ อันนี้เป็น  มีสมาชิก 4 ตัว"
      ],
      "metadata": {
        "id": "lCU_yMptRVyD"
      },
      "execution_count": 4,
      "outputs": []
    },
    {
      "cell_type": "code",
      "source": [
        "list_b"
      ],
      "metadata": {
        "colab": {
          "base_uri": "https://localhost:8080/"
        },
        "id": "YOhvxZQy39zm",
        "outputId": "70f742aa-965c-4c84-8f5a-218d76f25843"
      },
      "execution_count": 5,
      "outputs": [
        {
          "output_type": "execute_result",
          "data": {
            "text/plain": [
              "['ab', 2, 3.14, [1, 2, 3, 4, 5, 6]]"
            ]
          },
          "metadata": {},
          "execution_count": 5
        }
      ]
    },
    {
      "cell_type": "code",
      "source": [
        "print(len(list_b))   ##นับบบ"
      ],
      "metadata": {
        "colab": {
          "base_uri": "https://localhost:8080/"
        },
        "id": "9O5aeWk24HM4",
        "outputId": "739d45f9-6fce-484a-c72a-76c1a394a394"
      },
      "execution_count": 6,
      "outputs": [
        {
          "output_type": "stream",
          "name": "stdout",
          "text": [
            "4\n"
          ]
        }
      ]
    },
    {
      "cell_type": "markdown",
      "source": [
        "### indexing การชี้สมาชิกใน list ด้วย เลขลำดับของ list\n",
        "\n"
      ],
      "metadata": {
        "id": "plt9u4NY5iN4"
      }
    },
    {
      "cell_type": "code",
      "source": [
        "list_a[3] # เอาสมาชิกตัวที่ 3 (เริ่มด้วย0)"
      ],
      "metadata": {
        "colab": {
          "base_uri": "https://localhost:8080/"
        },
        "id": "6v7gS2QJ4OKE",
        "outputId": "c59e494f-f90b-465c-cfdf-cf4d913ed626"
      },
      "execution_count": 7,
      "outputs": [
        {
          "output_type": "execute_result",
          "data": {
            "text/plain": [
              "4"
            ]
          },
          "metadata": {},
          "execution_count": 7
        }
      ]
    },
    {
      "cell_type": "code",
      "source": [
        "list_b[3]"
      ],
      "metadata": {
        "colab": {
          "base_uri": "https://localhost:8080/"
        },
        "id": "4VXqHXey4eA6",
        "outputId": "97d77809-cc1e-460a-bd8f-c1b9e677cb4c"
      },
      "execution_count": 8,
      "outputs": [
        {
          "output_type": "execute_result",
          "data": {
            "text/plain": [
              "[1, 2, 3, 4, 5, 6]"
            ]
          },
          "metadata": {},
          "execution_count": 8
        }
      ]
    },
    {
      "cell_type": "code",
      "source": [
        "list_b[3][3] # เอาสมาชิกตัวที่ 3 เเละเอาสมาชิกตัวที่ 3 ใน list นั้น"
      ],
      "metadata": {
        "colab": {
          "base_uri": "https://localhost:8080/"
        },
        "id": "V_N7tb8l4w6s",
        "outputId": "95251d41-fb91-4787-f663-675419b6fb50"
      },
      "execution_count": 9,
      "outputs": [
        {
          "output_type": "execute_result",
          "data": {
            "text/plain": [
              "4"
            ]
          },
          "metadata": {},
          "execution_count": 9
        }
      ]
    },
    {
      "cell_type": "code",
      "source": [
        "list_b[3][4] # เอาสมาชิกตัวที่ 3 เเละเอาสมาชิกตัวที่ 4 ใน list นั้น"
      ],
      "metadata": {
        "colab": {
          "base_uri": "https://localhost:8080/"
        },
        "id": "fcBHnL9445LQ",
        "outputId": "9ffa3f5c-add3-40de-d3b2-34be9c444222"
      },
      "execution_count": 10,
      "outputs": [
        {
          "output_type": "execute_result",
          "data": {
            "text/plain": [
              "5"
            ]
          },
          "metadata": {},
          "execution_count": 10
        }
      ]
    },
    {
      "cell_type": "code",
      "source": [
        "list_a[-1] # index -1 คือตัวสุดท้ายของ list"
      ],
      "metadata": {
        "colab": {
          "base_uri": "https://localhost:8080/"
        },
        "id": "9Bfzxapj5Mss",
        "outputId": "42ccda14-520a-4584-e305-610d8c314dd3"
      },
      "execution_count": 14,
      "outputs": [
        {
          "output_type": "execute_result",
          "data": {
            "text/plain": [
              "6"
            ]
          },
          "metadata": {},
          "execution_count": 14
        }
      ]
    },
    {
      "cell_type": "code",
      "source": [
        "list_a[-4] # index ติดลบ นับจากท้าย"
      ],
      "metadata": {
        "colab": {
          "base_uri": "https://localhost:8080/"
        },
        "id": "Yz2RJIMX559j",
        "outputId": "8f5c271f-1576-4fcb-dc54-b6e4c7e08a38"
      },
      "execution_count": 15,
      "outputs": [
        {
          "output_type": "execute_result",
          "data": {
            "text/plain": [
              "3"
            ]
          },
          "metadata": {},
          "execution_count": 15
        }
      ]
    },
    {
      "cell_type": "code",
      "source": [
        "list_a[6] # ถ้าเรียกลำดับที่ไม่ได้มี ก็จะ error  เริ่มนับตัว 0 1 2 3 4 5"
      ],
      "metadata": {
        "colab": {
          "base_uri": "https://localhost:8080/",
          "height": 177
        },
        "id": "uenTVndK5osm",
        "outputId": "8a8ecc34-a852-4440-ae07-ede6a8f81618"
      },
      "execution_count": 13,
      "outputs": [
        {
          "output_type": "error",
          "ename": "IndexError",
          "evalue": "ignored",
          "traceback": [
            "\u001b[0;31m---------------------------------------------------------------------------\u001b[0m",
            "\u001b[0;31mIndexError\u001b[0m                                Traceback (most recent call last)",
            "\u001b[0;32m<ipython-input-13-33939fbd03ba>\u001b[0m in \u001b[0;36m<cell line: 1>\u001b[0;34m()\u001b[0m\n\u001b[0;32m----> 1\u001b[0;31m \u001b[0mlist_a\u001b[0m\u001b[0;34m[\u001b[0m\u001b[0;36m6\u001b[0m\u001b[0;34m]\u001b[0m \u001b[0;31m# ถ้าเรียกลำดับที่ไม่ได้มี ก็จะ error  เริ่มนับตัว 0 1 2 3 4 5\u001b[0m\u001b[0;34m\u001b[0m\u001b[0;34m\u001b[0m\u001b[0m\n\u001b[0m",
            "\u001b[0;31mIndexError\u001b[0m: list index out of range"
          ]
        }
      ]
    },
    {
      "cell_type": "markdown",
      "source": [
        "### การสร้าง ```list()```\n"
      ],
      "metadata": {
        "id": "db7EHL436Ec3"
      }
    },
    {
      "cell_type": "code",
      "source": [
        "list_x1 = [] # เเบบที่ 1 ลิสว่าง ไม่มีสมาชิก\n",
        "list_x2 = list() # แบบที่ 2"
      ],
      "metadata": {
        "id": "jzbEapZ76ILE"
      },
      "execution_count": 56,
      "outputs": []
    },
    {
      "cell_type": "code",
      "source": [
        "list_x1\n",
        "list_x2 # จะ show output ของตัวล่าสุด"
      ],
      "metadata": {
        "colab": {
          "base_uri": "https://localhost:8080/"
        },
        "id": "scNBfqdG6MNi",
        "outputId": "e606bb8c-3896-415b-f384-46b8e39f531d"
      },
      "execution_count": 57,
      "outputs": [
        {
          "output_type": "execute_result",
          "data": {
            "text/plain": [
              "[]"
            ]
          },
          "metadata": {},
          "execution_count": 57
        }
      ]
    },
    {
      "cell_type": "code",
      "source": [
        "list_x2\n"
      ],
      "metadata": {
        "colab": {
          "base_uri": "https://localhost:8080/"
        },
        "id": "J_y9IELI-2q5",
        "outputId": "9fb7cc06-e031-46a8-af7d-764cd042cae5"
      },
      "execution_count": 58,
      "outputs": [
        {
          "output_type": "execute_result",
          "data": {
            "text/plain": [
              "[]"
            ]
          },
          "metadata": {},
          "execution_count": 58
        }
      ]
    },
    {
      "cell_type": "code",
      "source": [
        "print(list_x1)\n",
        "print(list_x2) # show output ทั้งสองอัน"
      ],
      "metadata": {
        "colab": {
          "base_uri": "https://localhost:8080/"
        },
        "id": "K_jksjxu6Tvf",
        "outputId": "ee673969-8b28-42c0-d464-c2fc01bdde00"
      },
      "execution_count": 59,
      "outputs": [
        {
          "output_type": "stream",
          "name": "stdout",
          "text": [
            "[]\n",
            "[]\n"
          ]
        }
      ]
    },
    {
      "cell_type": "code",
      "source": [
        "list_x1\n",
        "list_x2\n",
        "print ('3') # จะ show output ของตัวล่าสุดหรือตัวสุดท้าย (ในที่นี้คือ print('3))"
      ],
      "metadata": {
        "colab": {
          "base_uri": "https://localhost:8080/"
        },
        "id": "UZFv_TCw6hSb",
        "outputId": "08ff4574-6eb6-4cdd-dfc2-1c8d21eba8d0"
      },
      "execution_count": 60,
      "outputs": [
        {
          "output_type": "stream",
          "name": "stdout",
          "text": [
            "3\n"
          ]
        }
      ]
    },
    {
      "cell_type": "markdown",
      "source": [
        "### เพิ่มสมาชิกเข้าไปใน list ด้วย ```append()```\n",
        "append คือเอาเข้าไปต่อ"
      ],
      "metadata": {
        "id": "XQzO_t-Q6ns1"
      }
    },
    {
      "cell_type": "code",
      "source": [
        "list_x1.append(2)  # เก็บ 2 ไว้ใน list_x1"
      ],
      "metadata": {
        "id": "79fwOFKL6uci"
      },
      "execution_count": 61,
      "outputs": []
    },
    {
      "cell_type": "code",
      "source": [
        "print(list_x1)"
      ],
      "metadata": {
        "id": "jglwMDaMEEgk",
        "outputId": "b5cbad96-c2fe-42aa-96c6-5a57ac7bc930",
        "colab": {
          "base_uri": "https://localhost:8080/"
        }
      },
      "execution_count": 62,
      "outputs": [
        {
          "output_type": "stream",
          "name": "stdout",
          "text": [
            "[2]\n"
          ]
        }
      ]
    },
    {
      "cell_type": "code",
      "source": [
        "list_x1.append(4) # นำ 4 เข้าไปเก็บไว้ใน list_x1\n",
        "print(list_x1)"
      ],
      "metadata": {
        "id": "hHEvoXdUFAOj",
        "outputId": "a4439707-25a7-4aee-b2af-ad6dc77b5dc2",
        "colab": {
          "base_uri": "https://localhost:8080/"
        }
      },
      "execution_count": 63,
      "outputs": [
        {
          "output_type": "stream",
          "name": "stdout",
          "text": [
            "[2, 4]\n"
          ]
        }
      ]
    },
    {
      "cell_type": "code",
      "source": [
        "list_x1.append(5) # นำ 4 เข้าไปเก็บไว้ใน list_x1\n",
        "print(list_x1)"
      ],
      "metadata": {
        "id": "BMP8gbLoFEw5",
        "outputId": "e65b0025-37a4-4425-d98d-db7421fc94f6",
        "colab": {
          "base_uri": "https://localhost:8080/"
        }
      },
      "execution_count": 64,
      "outputs": [
        {
          "output_type": "stream",
          "name": "stdout",
          "text": [
            "[2, 4, 5]\n"
          ]
        }
      ]
    },
    {
      "cell_type": "markdown",
      "source": [
        "### ลบสมาชิกจาก list"
      ],
      "metadata": {
        "id": "QynhYBuYEM9y"
      }
    },
    {
      "cell_type": "code",
      "source": [
        "list_x2.append('ha') # เติม ha ใน list_x2"
      ],
      "metadata": {
        "id": "pfsZmXOkESe9"
      },
      "execution_count": 65,
      "outputs": []
    },
    {
      "cell_type": "code",
      "source": [
        "list_x2.append('ha') # เติม ha ใน list_x2  --- มี ha 2 ตัว"
      ],
      "metadata": {
        "id": "E6l0kHy7EXw-"
      },
      "execution_count": 66,
      "outputs": []
    },
    {
      "cell_type": "code",
      "source": [
        "list_x2 # ผลลัพธ์ของ list_x2"
      ],
      "metadata": {
        "id": "grR13BvXEehf",
        "outputId": "851e0bef-f578-4363-d556-a0feafa37760",
        "colab": {
          "base_uri": "https://localhost:8080/"
        }
      },
      "execution_count": 67,
      "outputs": [
        {
          "output_type": "execute_result",
          "data": {
            "text/plain": [
              "['ha', 'ha']"
            ]
          },
          "metadata": {},
          "execution_count": 67
        }
      ]
    },
    {
      "cell_type": "code",
      "source": [
        "list_x1.append('ha') # เติม ha ใน list_x1\n",
        "list_x1.append('haa') # เติม ha ใน list_x1\n",
        "list_x1.append('haaa') # เติม ha ใน list_x1\n"
      ],
      "metadata": {
        "id": "vlbiQYlBEjBk"
      },
      "execution_count": 85,
      "outputs": []
    },
    {
      "cell_type": "code",
      "source": [
        "list_x1 # ผลลัพธ์หลังใช้ append เติม"
      ],
      "metadata": {
        "id": "-DwD8-SMEl0A",
        "outputId": "7c75c891-96c6-4887-cc41-2ce5a6a83fed",
        "colab": {
          "base_uri": "https://localhost:8080/"
        }
      },
      "execution_count": 86,
      "outputs": [
        {
          "output_type": "execute_result",
          "data": {
            "text/plain": [
              "[2, 4, 5, 'ha', 'haa', 'haaa']"
            ]
          },
          "metadata": {},
          "execution_count": 86
        }
      ]
    },
    {
      "cell_type": "code",
      "source": [
        "list_x1.pop() # จะลบจากตัวท้ายสุดก่อน ตัวที่จะลบออก"
      ],
      "metadata": {
        "id": "xvhoOUIcEqaq",
        "outputId": "19d99a0c-a878-4de0-8bd7-04bdf53a19c0",
        "colab": {
          "base_uri": "https://localhost:8080/",
          "height": 35
        }
      },
      "execution_count": 87,
      "outputs": [
        {
          "output_type": "execute_result",
          "data": {
            "text/plain": [
              "'haaa'"
            ],
            "application/vnd.google.colaboratory.intrinsic+json": {
              "type": "string"
            }
          },
          "metadata": {},
          "execution_count": 87
        }
      ]
    },
    {
      "cell_type": "code",
      "source": [
        "print(list_x1) # เเสดง output ของ list_x1"
      ],
      "metadata": {
        "id": "ypWMCAltExqN",
        "outputId": "9e1547c1-709a-4d99-a6f0-21d597149eca",
        "colab": {
          "base_uri": "https://localhost:8080/"
        }
      },
      "execution_count": 88,
      "outputs": [
        {
          "output_type": "stream",
          "name": "stdout",
          "text": [
            "[2, 4, 5, 'ha', 'haa']\n"
          ]
        }
      ]
    },
    {
      "cell_type": "markdown",
      "source": [
        "### ```len()``` นับ ตรวจสอบจำนวนสมาชิกของ list"
      ],
      "metadata": {
        "id": "pdLg7TYJFugq"
      }
    },
    {
      "cell_type": "code",
      "source": [
        "list_a = [1,2,3,4,5,6]\n",
        "list_b = ['ab',2,3.14 , list_a]"
      ],
      "metadata": {
        "id": "6Joq67YDGfbA"
      },
      "execution_count": 95,
      "outputs": []
    },
    {
      "cell_type": "code",
      "source": [
        "len(list_a) # เเสดงจำนวนสมาชิกของ list_a"
      ],
      "metadata": {
        "id": "ggkNI2nVF89Y",
        "outputId": "758dcbcd-3f68-4e74-a1cc-484f66dd8f8e",
        "colab": {
          "base_uri": "https://localhost:8080/"
        }
      },
      "execution_count": 90,
      "outputs": [
        {
          "output_type": "execute_result",
          "data": {
            "text/plain": [
              "6"
            ]
          },
          "metadata": {},
          "execution_count": 90
        }
      ]
    },
    {
      "cell_type": "code",
      "source": [
        "print(list_b) # เเสดง list_b\n",
        "print(len(list_b)) # เเสดงจำนวนสมาชิกของ list_b ****"
      ],
      "metadata": {
        "id": "Zvpu4aJdFyry",
        "outputId": "159fbb56-592d-4ad4-86e2-474ed4494b96",
        "colab": {
          "base_uri": "https://localhost:8080/"
        }
      },
      "execution_count": 96,
      "outputs": [
        {
          "output_type": "stream",
          "name": "stdout",
          "text": [
            "['ab', 2, 3.14, [1, 2, 3, 4, 5, 6]]\n",
            "4\n"
          ]
        }
      ]
    },
    {
      "cell_type": "markdown",
      "source": [
        "###  ex String is a list of characters (นับ)"
      ],
      "metadata": {
        "id": "uUaW3qlzG8se"
      }
    },
    {
      "cell_type": "code",
      "source": [
        "st_stat = 'Department od Statistics, Faculty of Science' # กำหนด string"
      ],
      "metadata": {
        "id": "yFDmsx7oG8AW"
      },
      "execution_count": 97,
      "outputs": []
    },
    {
      "cell_type": "code",
      "source": [
        "len(st_stat) # นับช่องว่างด้วย"
      ],
      "metadata": {
        "id": "zMaNm1O0HIOU",
        "outputId": "aa04b8f8-9687-4c24-94ce-79eec7cb85b4",
        "colab": {
          "base_uri": "https://localhost:8080/"
        }
      },
      "execution_count": 99,
      "outputs": [
        {
          "output_type": "execute_result",
          "data": {
            "text/plain": [
              "44"
            ]
          },
          "metadata": {},
          "execution_count": 99
        }
      ]
    },
    {
      "cell_type": "code",
      "source": [
        "st_stat[16] # เอาสมาชิกตัวที่ 20"
      ],
      "metadata": {
        "id": "sWTkv6qjHPcy",
        "outputId": "584eb53f-440d-4f5e-9af9-efe9332910b2",
        "colab": {
          "base_uri": "https://localhost:8080/",
          "height": 35
        }
      },
      "execution_count": 103,
      "outputs": [
        {
          "output_type": "execute_result",
          "data": {
            "text/plain": [
              "'a'"
            ],
            "application/vnd.google.colaboratory.intrinsic+json": {
              "type": "string"
            }
          },
          "metadata": {},
          "execution_count": 103
        }
      ]
    },
    {
      "cell_type": "markdown",
      "source": [
        "### List Slicing ```:```\n",
        "คือ ดูลิสเป็นเหมือนเส้นจำนวน  มีตัดวงโปร่งและทึบ\n"
      ],
      "metadata": {
        "id": "yaL8KCd7HpY5"
      }
    },
    {
      "cell_type": "markdown",
      "source": [
        "`list[จุดเเริ่มต้น  (ทึบ):จุดสุดท้าย  (โปร่ง)]`\n",
        "\n",
        "`list[จุดเเริ่มต้น  (ทึบ):จุดสุดท้าย  (โปร่ง):step]`\n",
        "\n",
        "\n",
        "step คือ กระโดดหรือข้ามไปทีละเท่าไหร่"
      ],
      "metadata": {
        "id": "13lmbUQoHssg"
      }
    },
    {
      "cell_type": "markdown",
      "source": [
        "![image.png](data:image/png;base64,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)"
      ],
      "metadata": {
        "id": "u1uwtSWUH3ul"
      }
    },
    {
      "cell_type": "code",
      "source": [
        "list_a = [0,1,2,3,4,5,6]\n",
        "list_a # เเสดง list_a\n",
        "list_a[3] # จะเเสดงเลข 3 ออกมา"
      ],
      "metadata": {
        "id": "hip_8fqrHvua",
        "outputId": "3a1d25e2-050e-493d-ba01-704ddd13bc06",
        "colab": {
          "base_uri": "https://localhost:8080/"
        }
      },
      "execution_count": 105,
      "outputs": [
        {
          "output_type": "execute_result",
          "data": {
            "text/plain": [
              "3"
            ]
          },
          "metadata": {},
          "execution_count": 105
        }
      ]
    },
    {
      "cell_type": "markdown",
      "source": [
        "#### `:` colon  บอกเริ่มต้นกับสิ้นสุด\n",
        "\n",
        "\n",
        " colon นับตัวเเรกทางซ้ายเป็น 0 นับตัวเเรกทางขวาเป็น -1\n",
        "\n",
        "\n"
      ],
      "metadata": {
        "id": "zXizrwo8IQYY"
      }
    },
    {
      "cell_type": "code",
      "source": [
        "list_a[1:4] # : colon  # ดึงสมาชิกตัวที่ 1 2 3\n"
      ],
      "metadata": {
        "id": "gWO6EdsWIe9G",
        "outputId": "fec91e0d-861f-4d56-f774-c2a000051d7a",
        "colab": {
          "base_uri": "https://localhost:8080/"
        }
      },
      "execution_count": 107,
      "outputs": [
        {
          "output_type": "execute_result",
          "data": {
            "text/plain": [
              "[1, 2, 3]"
            ]
          },
          "metadata": {},
          "execution_count": 107
        }
      ]
    },
    {
      "cell_type": "code",
      "source": [
        "list_a[1:5] # ดึงสมาชิกตัวที่ 1 2 3 4\n"
      ],
      "metadata": {
        "id": "EMjlJxsxIpVk",
        "outputId": "61399882-4c7a-4e3d-9baf-beaa1310f782",
        "colab": {
          "base_uri": "https://localhost:8080/"
        }
      },
      "execution_count": 108,
      "outputs": [
        {
          "output_type": "execute_result",
          "data": {
            "text/plain": [
              "[1, 2, 3, 4]"
            ]
          },
          "metadata": {},
          "execution_count": 108
        }
      ]
    },
    {
      "cell_type": "code",
      "source": [
        "list_a[-3:] # ดึงสมาชิกตัวที่ -3 -2 -1\n"
      ],
      "metadata": {
        "id": "W9AvrgRIIq2y",
        "outputId": "ec0a2ec9-4e5f-45a4-f37f-833b1d62fa9b",
        "colab": {
          "base_uri": "https://localhost:8080/"
        }
      },
      "execution_count": 109,
      "outputs": [
        {
          "output_type": "execute_result",
          "data": {
            "text/plain": [
              "[4, 5, 6]"
            ]
          },
          "metadata": {},
          "execution_count": 109
        }
      ]
    },
    {
      "cell_type": "code",
      "source": [
        "list_a[:] # คือเอาทุกตัว"
      ],
      "metadata": {
        "id": "B-8uRu-eIsTa",
        "outputId": "cab0f222-8e1a-4151-be4e-20528453e1b7",
        "colab": {
          "base_uri": "https://localhost:8080/"
        }
      },
      "execution_count": 110,
      "outputs": [
        {
          "output_type": "execute_result",
          "data": {
            "text/plain": [
              "[0, 1, 2, 3, 4, 5, 6]"
            ]
          },
          "metadata": {},
          "execution_count": 110
        }
      ]
    }
  ]
}